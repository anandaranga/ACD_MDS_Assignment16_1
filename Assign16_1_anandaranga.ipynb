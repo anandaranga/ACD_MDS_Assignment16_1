{
 "cells": [
  {
   "cell_type": "markdown",
   "metadata": {},
   "source": [
    "## Assignment 16.1\n",
    "### ACD MDS (Mar 2018 batch) Student: K. Anandaranga"
   ]
  },
  {
   "cell_type": "code",
   "execution_count": 1,
   "metadata": {},
   "outputs": [],
   "source": [
    "#You survey households in your area to find the average rent they are paying. \n",
    "#Find the standard deviation from the following data:\n",
    "# $1550, $1700, $900, $850, $1000, $950"
   ]
  },
  {
   "cell_type": "code",
   "execution_count": 31,
   "metadata": {},
   "outputs": [
    {
     "name": "stdout",
     "output_type": "stream",
     "text": [
      "Standard deviation of the sample is \n",
      "-----------------------------------\n"
     ]
    },
    {
     "data": {
      "text/plain": [
       "'$ 367.99003609699366'"
      ]
     },
     "execution_count": 31,
     "metadata": {},
     "output_type": "execute_result"
    }
   ],
   "source": [
    "import numpy as np\n",
    "import pandas as pd\n",
    "\n",
    "rent_sample = [1550, 1700, 900, 850, 1000, 950]\n",
    "s = np.std(rent_sample, ddof=1)\n",
    "print (\"Standard deviation of the sample is \" )\n",
    "print (\"-\"*35)\n",
    "'$ {}'.format (s)\n"
   ]
  },
  {
   "cell_type": "code",
   "execution_count": null,
   "metadata": {},
   "outputs": [],
   "source": []
  },
  {
   "cell_type": "code",
   "execution_count": null,
   "metadata": {},
   "outputs": [],
   "source": []
  }
 ],
 "metadata": {
  "kernelspec": {
   "display_name": "Python 3",
   "language": "python",
   "name": "python3"
  },
  "language_info": {
   "codemirror_mode": {
    "name": "ipython",
    "version": 3
   },
   "file_extension": ".py",
   "mimetype": "text/x-python",
   "name": "python",
   "nbconvert_exporter": "python",
   "pygments_lexer": "ipython3",
   "version": "3.6.1"
  }
 },
 "nbformat": 4,
 "nbformat_minor": 2
}
